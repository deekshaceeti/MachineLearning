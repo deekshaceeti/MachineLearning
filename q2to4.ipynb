{
  "nbformat": 4,
  "nbformat_minor": 0,
  "metadata": {
    "colab": {
      "provenance": [],
      "authorship_tag": "ABX9TyPipK1LDsMTNlzRioMOnqkR",
      "include_colab_link": true
    },
    "kernelspec": {
      "name": "python3",
      "display_name": "Python 3"
    },
    "language_info": {
      "name": "python"
    }
  },
  "cells": [
    {
      "cell_type": "markdown",
      "metadata": {
        "id": "view-in-github",
        "colab_type": "text"
      },
      "source": [
        "<a href=\"https://colab.research.google.com/github/deekshaceeti/MachineLearning/blob/main/q2to4.ipynb\" target=\"_parent\"><img src=\"https://colab.research.google.com/assets/colab-badge.svg\" alt=\"Open In Colab\"/></a>"
      ]
    },
    {
      "cell_type": "code",
      "execution_count": 51,
      "metadata": {
        "id": "8JjD40DdQsAZ"
      },
      "outputs": [],
      "source": []
    },
    {
      "cell_type": "markdown",
      "source": [],
      "metadata": {
        "id": "Ju0h_jRkATv9"
      }
    },
    {
      "cell_type": "markdown",
      "source": [],
      "metadata": {
        "id": "4jEB1RIAQ9Dy"
      }
    },
    {
      "cell_type": "markdown",
      "source": [],
      "metadata": {
        "id": "K7nsJLERWlBN"
      }
    },
    {
      "cell_type": "code",
      "source": [
        "my_list = [10,20,30,40,50,60,70,80,90,100]\n",
        "for i in my_list [1::2]:\n",
        "  print(i,end=\"\")"
      ],
      "metadata": {
        "colab": {
          "base_uri": "https://localhost:8080/"
        },
        "id": "omHAtMz8Vmgi",
        "outputId": "4a42fcd7-6522-4190-cf45-01b476672a61"
      },
      "execution_count": 79,
      "outputs": [
        {
          "output_type": "stream",
          "name": "stdout",
          "text": [
            "20406080100"
          ]
        }
      ]
    },
    {
      "cell_type": "markdown",
      "source": [],
      "metadata": {
        "id": "zxCW8XQjZu8a"
      }
    },
    {
      "cell_type": "code",
      "source": [
        "x=[23, 'python', 23.98]\n",
        "types = []\n",
        "for i in x:\n",
        "  types.append(type(i))\n",
        "  print(x)\n",
        "  print(types)"
      ],
      "metadata": {
        "colab": {
          "base_uri": "https://localhost:8080/"
        },
        "id": "9QH0IB7rZB_2",
        "outputId": "55f68756-2c12-4960-f946-024d76f9fa3c"
      },
      "execution_count": 53,
      "outputs": [
        {
          "output_type": "stream",
          "name": "stdout",
          "text": [
            "[23, 'python', 23.98]\n",
            "[<class 'int'>]\n",
            "[23, 'python', 23.98]\n",
            "[<class 'int'>, <class 'str'>]\n",
            "[23, 'python', 23.98]\n",
            "[<class 'int'>, <class 'str'>, <class 'float'>]\n"
          ]
        }
      ]
    },
    {
      "cell_type": "code",
      "source": [
        "def count_case(string):\n",
        "  upper_count = 0\n",
        "  lower_count = 0\n",
        "  for char in string:\n",
        "    if char.isupper():\n",
        "      upper_count += 1\n",
        "    elif char.islower(): \n",
        "      lower_count += 1 \n",
        "      return upper_count, lower_count\n",
        "\n",
        "input_string = 'The quick Brow Fox'\n",
        "upper_count, lower_count = count_case(input_string) \n",
        "\n",
        "print(\"No. of upper-case characters:\", upper_count)\n",
        "print(\"No. of lower-case characters:\", lower_count)"
      ],
      "metadata": {
        "colab": {
          "base_uri": "https://localhost:8080/"
        },
        "id": "69ReZqYpWulH",
        "outputId": "3adf950b-323e-44ed-a9ac-b3165d4fff6d"
      },
      "execution_count": 54,
      "outputs": [
        {
          "output_type": "stream",
          "name": "stdout",
          "text": [
            "No. of upper-case characters: 1\n",
            "No. of lower-case characters: 1\n"
          ]
        }
      ]
    },
    {
      "cell_type": "code",
      "source": [
        "Sample_List=[1,2,3,3,3,3,4,5]\n",
        "Unique_List=[]\n",
        "for i in Sample_List:\n",
        "  if i not in Unique_List:\n",
        "    Unique_List.append(i)\n",
        "print(Unique_List)\n"
      ],
      "metadata": {
        "colab": {
          "base_uri": "https://localhost:8080/"
        },
        "id": "tXESPkpUZ-j3",
        "outputId": "09ce8f58-e438-4fa7-ad4b-b9c066afe36c"
      },
      "execution_count": 55,
      "outputs": [
        {
          "output_type": "stream",
          "name": "stdout",
          "text": [
            "[1, 2, 3, 4, 5]\n"
          ]
        }
      ]
    },
    {
      "cell_type": "markdown",
      "source": [
        "\n",
        "\n"
      ],
      "metadata": {
        "id": "Hc6Ih98WT_R7"
      }
    }
  ]
}